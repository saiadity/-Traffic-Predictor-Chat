{
 "cells": [
  {
   "cell_type": "markdown",
   "metadata": {},
   "source": [
    "# Traffic Prediction Chatbot Development Notebook\n",
    "\n",
    "This notebook guides you through the process of building an AI-powered traffic prediction chatbot, containing approximately 138 lines of code and markdown."
   ]
  },
  {
   "cell_type": "markdown",
   "metadata": {},
   "source": [
    "# 🚦 AI-Powered Traffic Prediction Chatbot – EDA & Model Logic"
   ]
  },
  {
   "cell_type": "markdown",
   "metadata": {},
   "source": [
    "## 1. 🎯 Objective\n",
    "We aim to build an AI chatbot that predicts traffic based on past traffic data."
   ]
  },
  {
   "cell_type": "markdown",
   "metadata": {},
   "source": [
    "## 2. 📦 Import Required Libraries\n",
    "We import libraries for data handling, plotting, and datetime manipulation."
   ]
  },
  {
   "cell_type": "code",
   "execution_count": null,
   "metadata": {},
   "outputs": [],
   "source": [
    "import pandas as pd\n",
    "import matplotlib.pyplot as plt\n",
    "import seaborn as sns\n",
    "from datetime import datetime\n",
    "import os"
   ]
  },
  {
   "cell_type": "markdown",
   "metadata": {},
   "source": [
    "## 3. 📁 Load Dataset\n",
    "We read the traffic data CSV file and clean column names."
   ]
  },
  {
   "cell_type": "code",
   "execution_count": null,
   "metadata": {},
   "outputs": [],
   "source": [
    "df = pd.read_csv(\"traffic_data.csv\")\n",
    "df.columns = df.columns.str.strip()"
   ]
  },
  {
   "cell_type": "markdown",
   "metadata": {},
   "source": [
    "## 4. 🔢 Show Number of Records\n",
    "We check how many data entries (rows) are present."
   ]
  },
  {
   "cell_type": "code",
   "execution_count": null,
   "metadata": {},
   "outputs": [],
   "source": [
    "print(\"Number of rows in dataset:\", len(df))"
   ]
  },
  {
   "cell_type": "markdown",
   "metadata": {},
   "source": [
    "## 5. 🧹 Preprocess Columns\n",
    "We convert datetime and extract hour and date from it."
   ]
  },
  {
   "cell_type": "code",
   "execution_count": null,
   "metadata": {},
   "outputs": [],
   "source": [
    "df['Datetime'] = pd.to_datetime(df['Datetime'], format='%d-%m-%Y %H:%M', dayfirst=True, errors='coerce')\n",
    "df['Hour'] = df['Datetime'].dt.hour\n",
    "df['Date'] = df['Datetime'].dt.date"
   ]
  },
  {
   "cell_type": "markdown",
   "metadata": {},
   "source": [
    "## 6. 🔍 Initial Data Exploration\n",
    "We look at data samples, types, stats, and missing values."
   ]
  },
  {
   "cell_type": "code",
   "execution_count": null,
   "metadata": {},
   "outputs": [],
   "source": [
    "print(df.head())\n",
    "print(df.info())\n",
    "print(df.describe())\n",
    "print(\"Missing values in each column:\\n\", df.isnull().sum())"
   ]
  },
  {
   "cell_type": "markdown",
   "metadata": {},
   "source": [
    "## 7. 🧾 Dataset Summary\n",
    "We print a statistical summary like mean, std, etc."
   ]
  },
  {
   "cell_type": "code",
   "execution_count": null,
   "metadata": {},
   "outputs": [],
   "source": [
    "print(\"\\n📊 Summary of the dataset:\")\n",
    "print(df.describe())"
   ]
  },
  {
   "cell_type": "markdown",
   "metadata": {},
   "source": [
    "## 8. 📆 Year Coverage in Data\n",
    "We check how many unique years of traffic data we have."
   ]
  },
  {
   "cell_type": "code",
   "execution_count": null,
   "metadata": {},
   "outputs": [],
   "source": [
    "years = df['Datetime'].dt.year.nunique()\n",
    "print(f\"\\n📆 Number of years covered in the data: {years}\")"
   ]
  },
  {
   "cell_type": "markdown",
   "metadata": {},
   "source": [
    "## 9. 📈 Traffic Distribution by Hour\n",
    "We draw a boxplot showing traffic variation for each hour."
   ]
  },
  {
   "cell_type": "code",
   "execution_count": null,
   "metadata": {},
   "outputs": [],
   "source": [
    "plt.figure(figsize=(12,6))\n",
    "sns.boxplot(x='Hour', y='Count', data=df)\n",
    "plt.title(\"Traffic Volume by Hour\")\n",
    "plt.show()"
   ]
  },
  {
   "cell_type": "markdown",
   "metadata": {},
   "source": [
    "## 10. 📉 Daily Traffic Trend\n",
    "We plot how traffic changes day by day on average."
   ]
  },
  {
   "cell_type": "code",
   "execution_count": null,
   "metadata": {},
   "outputs": [],
   "source": [
    "daily_avg = df.groupby('Date')['Count'].mean()\n",
    "daily_avg.plot(figsize=(14,5), title=\"Daily Average Traffic Volume\")\n",
    "plt.grid(True)\n",
    "plt.show()"
   ]
  },
  {
   "cell_type": "markdown",
   "metadata": {},
   "source": [
    "## 11. 📆 Monthly Pattern\n",
    "We check average traffic volume per month to see seasonal trends."
   ]
  },
  {
   "cell_type": "code",
   "execution_count": null,
   "metadata": {},
   "outputs": [],
   "source": [
    "df['Month'] = df['Datetime'].dt.month\n",
    "monthly_avg = df.groupby('Month')['Count'].mean()\n",
    "\n",
    "plt.figure(figsize=(10,5))\n",
    "plt.plot(monthly_avg.index, monthly_avg.values, marker='o', linestyle='-', color='purple')\n",
    "plt.title(\"Average Monthly Traffic Volume\")\n",
    "plt.xlabel(\"Month\")\n",
    "plt.ylabel(\"Traffic Volume\")\n",
    "plt.grid(True)\n",
    "plt.tight_layout()\n",
    "plt.show()"
   ]
  },
  {
   "cell_type": "markdown",
   "metadata": {},
   "source": [
    "## 12. ⚙️ Prediction Logic from EDA\n",
    "Based on traffic count, we classify traffic level:\n",
    "<=100 → Light\n",
    "101–200 → Moderate\n",
    ">200 → Heavy"
   ]
  },
  {
   "cell_type": "markdown",
   "metadata": {},
   "source": [
    "## 13. 🤖 Core Traffic Prediction Function\n",
    "This function gives a traffic status based on a 3-hour window."
   ]
  },
  {
   "cell_type": "code",
   "execution_count": null,
   "metadata": {},
   "outputs": [],
   "source": [
    "def predict_traffic(hour_query: int, date_query=None):\n",
    "    hours = [(hour_query - 1) % 24, hour_query, (hour_query + 1) % 24]\n",
    "    \n",
    "    if date_query:\n",
    "        date_obj = pd.to_datetime(date_query).date()\n",
    "        filtered = df[(df['Hour'].isin(hours)) & (df['Date'] == date_obj)]\n",
    "    else:\n",
    "        filtered = df[df['Hour'].isin(hours)]\n",
    "    \n",
    "    avg = filtered['Count'].mean()\n",
    "    rounded_avg = round(avg) if not pd.isna(avg) else None\n",
    "    \n",
    "    if rounded_avg is None:\n",
    "        return \"No data available for the specified hour and date.\"\n",
    "    \n",
    "    if rounded_avg <= 100:\n",
    "        status = \"Light traffic — you're good to go!\"\n",
    "    elif rounded_avg <= 200:\n",
    "        status = \"Moderate — leave a little early.\"\n",
    "    else:\n",
    "        status = \"Heavy — plan ahead.\"\n",
    "    \n",
    "    return f\"Avg traffic around {hour_query}:00 is {rounded_avg} units. {status}\""
   ]
  },
  {
   "cell_type": "markdown",
   "metadata": {},
   "source": [
    "## 14. 📊 Plot 3-Hour Bin for a Given Hour\n",
    "This graph shows traffic trend around a specific hour."
   ]
  },
  {
   "cell_type": "code",
   "execution_count": null,
   "metadata": {},
   "outputs": [],
   "source": [
    "def traffic_prediction_plot(hour):\n",
    "    hours_to_check = [(hour - 1) % 24, hour, (hour + 1) % 24]\n",
    "    filtered = df[df['Hour'].isin(hours_to_check)]\n",
    "    avg_by_hour = filtered.groupby('Hour')['Count'].mean().reindex(hours_to_check)\n",
    "    smoothed_avg = round(avg_by_hour.mean())\n",
    "\n",
    "    plt.figure(figsize=(8,5))\n",
    "    plt.bar(avg_by_hour.index, avg_by_hour.values, color='orange', edgecolor='black')\n",
    "    plt.title(f\"Predicted Traffic Around {hour}:00 (3-Hour Bin)\")\n",
    "    plt.xlabel(\"Hour of Day\")\n",
    "    plt.ylabel(\"Average Traffic Volume\")\n",
    "    plt.axhline(smoothed_avg, color='red', linestyle='--', label=f\"Smoothed Avg: {smoothed_avg}\")\n",
    "    plt.xticks(hours_to_check)\n",
    "    plt.legend()\n",
    "    plt.grid(True, linestyle='--', alpha=0.5)\n",
    "    plt.tight_layout()\n",
    "    plt.show()\n",
    "    \n",
    "    print(f\"🚦 Predicted Traffic at {hour}:00 is approx {smoothed_avg} units.\")"
   ]
  },
  {
   "cell_type": "markdown",
   "metadata": {},
   "source": [
    "## 15. 📅 Predict for Specific Date + Hour\n",
    "This graph shows traffic trend for a specific date and hour."
   ]
  },
  {
   "cell_type": "code",
   "execution_count": null,
   "metadata": {},
   "outputs": [],
   "source": [
    "def plot_date_hour_prediction(date_str: str, hour: int):\n",
    "    try:\n",
    "        date_obj = pd.to_datetime(date_str).date()\n",
    "    except ValueError:\n",
    "        print(\"Invalid date format. Use YYYY-MM-DD.\")\n",
    "        return\n",
    "    \n",
    "    hours_to_check = [(hour - 1) % 24, hour, (hour + 1) % 24]\n",
    "    filtered = df[(df['Datetime'].dt.date == date_obj) & (df['Hour'].isin(hours_to_check))]\n",
    "\n",
    "    if filtered.empty:\n",
    "        print(f\"No data for {date_str} around {hour}:00.\")\n",
    "        return\n",
    "\n",
    "    avg_by_hour = filtered.groupby('Hour')['Count'].mean().reindex(hours_to_check)\n",
    "    smoothed_avg = round(avg_by_hour.mean())\n",
    "\n",
    "    plt.figure(figsize=(8,5))\n",
    "    plt.bar(avg_by_hour.index, avg_by_hour.values, color='green', edgecolor='black')\n",
    "    plt.title(f\"Traffic on {date_str} at {hour}:00 (3-Hour Window)\")\n",
    "    plt.xlabel(\"Hour of Day\")\n",
    "    plt.ylabel(\"Average Traffic\")\n",
    "    plt.axhline(smoothed_avg, color='red', linestyle='--', label=f\"Avg: {smoothed_avg}\")\n",
    "    plt.legend()\n",
    "    plt.grid(True, linestyle='--', alpha=0.5)\n",
    "    plt.tight_layout()\n",
    "    plt.show()\n",
    "\n",
    "    print(f\"📅 On {date_str}, around {hour}:00, predicted traffic: {smoothed_avg} units.\")"
   ]
  },
  {
   "cell_type": "markdown",
   "metadata": {},
   "source": [
    "## 16. ✅ Example Commands to Run"
   ]
  },
  {
   "cell_type": "code",
   "execution_count": null,
   "metadata": {},
   "outputs": [],
   "source": [
    "predict_traffic(12)  # General for 12 PM\n",
    "predict_traffic(9, \"2015-07-24\")  # Specific date + time\n",
    "traffic_prediction_plot(16)  # Visualization\n",
    "plot_date_hour_prediction(\"2015-07-24\", 9)  # Date + Hour plot"
   ]
  }
 ],
 "metadata": {
  "kernelspec": {
   "display_name": "Python 3",
   "language": "python",
   "name": "python3"
  },
  "language_info": {
   "codemirror_mode": {
    "name": "ipython",
    "version": 3
   },
   "file_extension": ".py",
   "mimetype": "text/x-python",
   "name": "python",
   "nbconvert_exporter": "python",
   "pygments_lexer": "ipython3",
   "version": "3.9.7"
  }
 },
 "nbformat": 4,
 "nbformat_minor": 4
}
